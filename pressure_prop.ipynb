{
 "cells": [
  {
   "cell_type": "markdown",
   "metadata": {},
   "source": [
    "# Implements Fluid Propagation \n",
    "Lets make sure we're getting the fluid propagation correct first"
   ]
  },
  {
   "cell_type": "code",
   "execution_count": 1,
   "metadata": {},
   "outputs": [],
   "source": [
    "# imports\n",
    "import numpy as np \n",
    "import matplotlib.pyplot as plt\n",
    "import sys\n",
    "from math import sin, cos, pi, tanh\n",
    "from random import seed\n",
    "from numpy.random import random\n",
    "from numpy import exp"
   ]
  },
  {
   "cell_type": "code",
   "execution_count": 92,
   "metadata": {},
   "outputs": [],
   "source": [
    "from utils_2D import convolve_matrix, w_matrix \n",
    "\n",
    "eps = 0.3; res = 20 # eps gives communication length, res is resolution\n",
    "dim = int(np.ceil(res*(1+2*eps))) # expand range to get good communication length\n",
    "\n",
    "V=1 # set v order 1\n",
    "dt = 1/2*(1/res)*V/2 # dt based on the CFL condition  - PLAY\n",
    "\n",
    "\n",
    "phi_rand = random((dim, dim))\n",
    "\n",
    "# apply smoothing\n",
    "smoothed = convolve_matrix(phi_rand, eps, res)"
   ]
  },
  {
   "cell_type": "code",
   "execution_count": 39,
   "metadata": {},
   "outputs": [
    {
     "data": {
      "text/plain": [
       "<matplotlib.colorbar.Colorbar at 0x7fe2f3c5de20>"
      ]
     },
     "execution_count": 39,
     "metadata": {},
     "output_type": "execute_result"
    },
    {
     "data": {
      "image/png": "[encoded data removed]",
      "text/plain": [
       "<Figure size 432x288 with 2 Axes>"
      ]
     },
     "metadata": {
      "needs_background": "light"
     },
     "output_type": "display_data"
    }
   ],
   "source": [
    "# initilize rho0 to have pressure 1\n",
    "\n",
    "from utils_2D import Kappa\n",
    "def pressure(rho, c=1): # PLAY with C\n",
    "    return c*(rho-1)\n",
    "rho0 = np.ones((res,res))\n",
    "def flux_x(rho, phi, BC=np.zeros((rho0.shape[0],rho0.shape[1]+1)), dx =1/res, dt =dt):\n",
    "    x_flux = np.zeros((rho0.shape[0],rho0.shape[1]+1))\n",
    "    for row in range(x_flux.shape[0]):\n",
    "        for column in range(1, x_flux.shape[1]-1):\n",
    "            T1 = (rho[row, column-1]+rho[row, column])/2\n",
    "            T2 = Kappa((phi[row, column-1]+phi[row, column])/2)\n",
    "            T3 = (pressure(rho[row, column-1])-pressure(rho[row, column]))/dx\n",
    "            x_flux[row, column] = T1*T2*T3\n",
    "    return x_flux+dt*BC\n",
    "\n",
    "def flux_y(rho, phi, BC=np.zeros((rho0.shape[0]+1,rho0.shape[1])), dy =1/res, dt=dt):\n",
    "    y_flux = np.zeros((rho0.shape[0]+1,rho0.shape[1]))\n",
    "    for row in range(1, y_flux.shape[0]-1):\n",
    "        for column in range(y_flux.shape[1]):\n",
    "            T1 = (rho[row-1, column]+rho[row, column])/2\n",
    "            T2 = Kappa((phi[row-1, column]+phi[row, column])/2)\n",
    "            T3 = (pressure(rho[row-1, column])-pressure(rho[row, column]))/dy\n",
    "            y_flux[row, column] = T1*T2*T3\n",
    "    return y_flux + dt*BC\n",
    "BC_y = np.zeros((rho0.shape[0]+1,rho0.shape[1]))\n",
    "BC_y[0, 10:15] = np.ones(5)/2\n",
    "BC_y[-1, 10:15] = -np.ones(5)/2\n",
    "plt.imshow(flux_y(rho0, smoothed, BC_y))\n",
    "plt.colorbar()"
   ]
  },
  {
   "cell_type": "code",
   "execution_count": 49,
   "metadata": {},
   "outputs": [
    {
     "data": {
      "text/plain": [
       "<matplotlib.colorbar.Colorbar at 0x7fe2f47709a0>"
      ]
     },
     "execution_count": 49,
     "metadata": {},
     "output_type": "execute_result"
    },
    {
     "data": {
      "image/png": "[encoded data removed]",
      "text/plain": [
       "<Figure size 432x288 with 2 Axes>"
      ]
     },
     "metadata": {
      "needs_background": "light"
     },
     "output_type": "display_data"
    }
   ],
   "source": [
    "def update_rho(rho, phi, BC_x, BC_y, dt=dt, dx =1/res, dy = 1/res):\n",
    "    # calculate mass flux at each boundary\n",
    "    fx = flux_x(rho, phi, BC_x, dx=dx, dt=dt)\n",
    "    fy = flux_y(rho, phi, BC_y, dy=dy, dt=dt)\n",
    "    # initialize a flux matrix to get mass flux into a cell - this gives us an update for rho \n",
    "    flux_mat = np.zeros(rho.shape)\n",
    "    for row in range(flux_mat.shape[0]):\n",
    "        for column in range(flux_mat.shape[1]):\n",
    "            fmat_x = (fx[row, column+1]-fx[row, column])/dx # flux in x-direction \n",
    "            fmat_y = (fy[row, column] - fy[row+1, column])/dy # flux in y-direction\n",
    "            flux_mat[row, column] = -(fmat_x+fmat_y) # flux INTO the cell \n",
    "    return flux_mat, fx, fy\n",
    "BCx_empty = np.zeros((rho0.shape[0], rho0.shape[1]+1))\n",
    "plt.imshow(update_rho(rho0, smoothed, BCx_empty, BC_y)[2])\n",
    "plt.colorbar()\n"
   ]
  },
  {
   "cell_type": "code",
   "execution_count": 151,
   "metadata": {},
   "outputs": [
    {
     "data": {
      "text/plain": [
       "<matplotlib.colorbar.Colorbar at 0x7fe2f93efc70>"
      ]
     },
     "execution_count": 151,
     "metadata": {},
     "output_type": "execute_result"
    },
    {
     "data": {
      "image/png": "[encoded data removed]",
      "text/plain": [
       "<Figure size 432x288 with 2 Axes>"
      ]
     },
     "metadata": {
      "needs_background": "light"
     },
     "output_type": "display_data"
    }
   ],
   "source": [
    "def update_rho(rho, phi, BC_x, BC_y, dt=dt, dx =1/res, dy = 1/res):\n",
    "    # calculate mass flux at each boundary\n",
    "    fx = flux_x(rho, phi, BC_x, dx=dx, dt=dt)\n",
    "    fy = flux_y(rho, phi, BC_y, dy=dy, dt=dt)\n",
    "    # initialize a flux matrix to get mass flux into a cell - this gives us an update for rho \n",
    "    flux_mat = np.zeros(rho.shape)\n",
    "    for row in range(flux_mat.shape[0]):\n",
    "        for column in range(flux_mat.shape[1]):\n",
    "            # if any([fx[row, column+1],fx[row, column],fy[row, column],fy[row+1, column]]) !=0:\n",
    "            #     print(row, column, [fx[row, column+1],fx[row, column],fy[row, column],fy[row+1, column]])\n",
    "\n",
    "            #fmat_x = (fx[row, column+1]-fx[row, column]) # flux in x-direction \n",
    "            #fmat_y = (fy[row, column] - fy[row+1, column]) # flux in y-direction # Not mathematically correct but works physically\n",
    "            fmat_x = (fx[row, column+1]+fx[row, column]) # flux in x-direction \n",
    "            fmat_y = (fy[row, column] + fy[row+1, column]) # flux in y-direction # Not mathematically correct but works physically\n",
    "            \n",
    "            flux_mat[row, column] = (fmat_x+fmat_y)\n",
    "            # if val !=0:\n",
    "            #     print(row, column, val)\n",
    "            #flux_mat[row, column] = -(fmat_x+fmat_y) # flux INTO the cell \n",
    "    return rho+flux_mat, fx, fy\n",
    "BC_x = np.zeros((rho0.shape[0], rho0.shape[1]+1))\n",
    "BC_x[10:15, 0] = np.ones(5)/2\n",
    "BC_x[10:15, -1] = -np.ones(5)/2\n",
    "plt.imshow(update_rho(rho0, smoothed, BC_x, BC_y)[0])\n",
    "plt.colorbar()"
   ]
  },
  {
   "cell_type": "code",
   "execution_count": 152,
   "metadata": {},
   "outputs": [
    {
     "data": {
      "text/plain": [
       "<matplotlib.colorbar.Colorbar at 0x7fe2f9546b50>"
      ]
     },
     "execution_count": 152,
     "metadata": {},
     "output_type": "execute_result"
    },
    {
     "data": {
      "image/png": "[encoded data removed]",
      "text/plain": [
       "<Figure size 432x288 with 2 Axes>"
      ]
     },
     "metadata": {
      "needs_background": "light"
     },
     "output_type": "display_data"
    }
   ],
   "source": [
    "def calc_pressure(rho_new, dx =1/res, dy=1/res):\n",
    "    \"\"\"Second order central difference gives the pressure\"\"\"\n",
    "    # dx_mat = np.zeros(rho_new.shape)\n",
    "    # dy_mat = np.zeros(rho_new.shape)\n",
    "    p_mat = np.zeros(rho_new.shape)\n",
    "    for row in range(rho_new.shape[0]):\n",
    "        for column in range(rho_new.shape[1]):\n",
    "            px = 0; py =0\n",
    "            if column ==0: # forwards central difference\n",
    "                px = (rho_new[row, column+2]-2*rho_new[row, column+1]+rho_new[row, column])/(dx**2)\n",
    "            elif column == rho_new.shape[1]-1: # backwards\n",
    "                px = (rho_new[row, column]-2*rho_new[row, column-1]+rho_new[row, column-2])/(dx**2)\n",
    "            else: # centered \n",
    "                px = (rho_new[row, column+1]-2*rho_new[row, column]+rho_new[row, column-1])/(dx**2)\n",
    "            if row ==0: # forwards central diff\n",
    "                py = (rho_new[row+2, column]-2*rho_new[row+1, column]+rho_new[row, column])/(dy**2)\n",
    "            elif row ==rho_new.shape[0]-1: # backwards\n",
    "                py = (rho_new[row, column]-2*rho_new[row-1, column]+rho_new[row-2, column])/(dy**2)\n",
    "            else:  # calculate second order centered difference\n",
    "                py = (rho_new[row+1, column]-2*rho_new[row, column]+rho_new[row-1, column])/(dy**2)\n",
    "            # calculate squared gradient of pressure \n",
    "            p_mat[row, column] = px**2+py**2\n",
    "    return p_mat\n",
    "\n",
    "plt.imshow(calc_pressure(update_rho(rho0, smoothed, BC_x, BC_y)[0]))\n",
    "plt.colorbar()"
   ]
  },
  {
   "cell_type": "code",
   "execution_count": 154,
   "metadata": {},
   "outputs": [
    {
     "data": {
      "text/plain": [
       "<matplotlib.image.AxesImage at 0x7fe2f9bdc3d0>"
      ]
     },
     "execution_count": 154,
     "metadata": {},
     "output_type": "execute_result"
    },
    {
     "data": {
      "image/png": "[encoded data removed]",
      "text/plain": [
       "<Figure size 432x288 with 1 Axes>"
      ]
     },
     "metadata": {
      "needs_background": "light"
     },
     "output_type": "display_data"
    }
   ],
   "source": [
    "# update phi based on changes to rho\n",
    "def psi(phi, c1 =0.5, w=5, phistar=0.4, c2=0.5): # change stuff in HERE \n",
    "    return c1*tanh(w*(phi-phistar))+c2\n",
    "\n",
    "def update_phi(phi, pressure, dt=dt, c=500):\n",
    "    # get a derivative for phi\n",
    "    dphi_dt = np.zeros(phi.shape)\n",
    "    for i in range(dphi_dt.shape[0]):\n",
    "        for j in range(dphi_dt.shape[1]):\n",
    "            # based off pressure and function of solid fraction; always <=0\n",
    "            dphi_dt[i,j] = - phi[i,j] * np.max([0, pressure[i,j]/c-psi(phi[i,j])]) # PLAY with dividing pressure\n",
    "    # use forward Euler to update\n",
    "    phi_next = phi + dt * dphi_dt\n",
    "    # we can't have a negative solid fraction - we set this to zero\n",
    "    phi_next = np.maximum(phi_next, np.zeros(phi_next.shape))\n",
    "    return phi_next\n",
    "\n",
    "new_phi = update_phi(smoothed, calc_pressure(update_rho(rho0, smoothed, BC_x, BC_y)[0]), dt=dt, c=1)\n",
    "\n",
    "plt.imshow(new_phi)"
   ]
  },
  {
   "cell_type": "code",
   "execution_count": 157,
   "metadata": {},
   "outputs": [
    {
     "data": {
      "text/plain": [
       "<matplotlib.colorbar.Colorbar at 0x7fe2f9c95070>"
      ]
     },
     "execution_count": 157,
     "metadata": {},
     "output_type": "execute_result"
    },
    {
     "data": {
      "image/png": "[encoded data removed]",
      "text/plain": [
       "<Figure size 432x288 with 2 Axes>"
      ]
     },
     "metadata": {
      "needs_background": "light"
     },
     "output_type": "display_data"
    }
   ],
   "source": [
    "phi_list = [smoothed]; rho_list =[rho0]\n",
    "for i in range(10):\n",
    "    rho_next = update_rho(rho_list[i], smoothed, BC_x, BC_y)[0]\n",
    "    pressure_current = calc_pressure(rho_next)\n",
    "    phi_new = update_phi(phi_list[i], pressure_current, dt=dt, c=1)\n",
    "    phi_list.append(phi_new); rho_list.append(rho_next)\n",
    "plt.imshow(phi_list[9])\n",
    "plt.colorbar()"
   ]
  },
  {
   "cell_type": "markdown",
   "metadata": {},
   "source": [
    "# boundary conditions\n",
    "BC_y = np.zeros((rho0.shape[0]+1,rho0.shape[1]))\n",
    "BC_y[0, 10:15] = np.ones(5)/2\n",
    "BC_y[-1, 10:15] = -np.ones(5)/2\n",
    "\n",
    "BC_x = np.zeros((rho0.shape[0], rho0.shape[1]+1))\n",
    "BC_x[10:15, 0] = np.ones(5)/2\n",
    "BC_x[10:15, -1] = -np.ones(5)/2\n",
    "\n",
    "# update rho\n",
    "def time_step(phi, rho, BC_x, BC_y):\n",
    "    # update rho\n",
    "    rho_next = update_rho(rho0, smoothed, BC_x, BC_y)[2]\n",
    "    # get pressure from rho\n",
    "    pressure = calc_pressure(rho_next)\n",
    "    # update phi \n",
    "    phi_next = update_phi(phi, pressure, dt=dt)\n",
    "    return phi_next, rho_next, pressure\n",
    "phis = [smoothed]; rhos = [rho0]\n",
    "for i in range(100):\n",
    "    phi, rho, press = time_step(phis[i], rhos[i], BC_x, BC_y)\n",
    "    phis.append(phi)\n",
    "    rhos.append(rho)\n",
    "\n",
    "# plt.imshow(time_step(smoothed, rho0, BC_x, BC_y)[0])\n",
    "# plt.colorbar()\n",
    "\n"
   ]
  },
  {
   "cell_type": "code",
   "execution_count": 127,
   "metadata": {},
   "outputs": [
    {
     "data": {
      "image/png": "[encoded data removed]",
      "text/plain": [
       "<Figure size 720x720 with 9 Axes>"
      ]
     },
     "metadata": {
      "needs_background": "light"
     },
     "output_type": "display_data"
    }
   ],
   "source": [
    "fig, ax = plt.subplots(3,3, figsize=((10,10)))\n",
    "\n",
    "axs = ax.ravel()\n",
    "\n",
    "for i in range(9):\n",
    "    axs[i].imshow(phis[i+80], vmin=0, vmax = 1)\n",
    "    axs[i].set_title(f\"Erosion: {i}\")"
   ]
  },
  {
   "cell_type": "code",
   "execution_count": null,
   "metadata": {},
   "outputs": [],
   "source": []
  },
  {
   "cell_type": "code",
   "execution_count": null,
   "metadata": {},
   "outputs": [],
   "source": []
  }
 ],
 "metadata": {
  "interpreter": {
   "hash": "10acb9ecd2e2e0e068314dc3d713f538cdeaa552bb505f6e51d0870fde147493"
  },
  "kernelspec": {
   "display_name": "Python 3.8.3 64-bit ('base': conda)",
   "language": "python",
   "name": "python3"
  },
  "language_info": {
   "codemirror_mode": {
    "name": "ipython",
    "version": 3
   },
   "file_extension": ".py",
   "mimetype": "text/x-python",
   "name": "python",
   "nbconvert_exporter": "python",
   "pygments_lexer": "ipython3",
   "version": "3.8.3"
  },
  "orig_nbformat": 4
 },
 "nbformat": 4,
 "nbformat_minor": 2
}
